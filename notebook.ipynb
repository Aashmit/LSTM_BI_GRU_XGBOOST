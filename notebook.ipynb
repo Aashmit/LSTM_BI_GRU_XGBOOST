{
 "cells": [
  {
   "cell_type": "code",
   "execution_count": 2,
   "metadata": {},
   "outputs": [],
   "source": [
    "import numpy as np\n",
    "import pandas as pd\n",
    "import matplotlib.pyplot as plt\n",
    "import yfinance as yf\n",
    "import tensorflow as tf"
   ]
  },
  {
   "cell_type": "code",
   "execution_count": 9,
   "metadata": {},
   "outputs": [],
   "source": [
    "# GPU\n",
    "gpus = tf.config.experimental.list_physical_devices(\"GPU\")\n",
    "if gpus:\n",
    "    tf.config.experimental.set_memory_growth(gpus[0], True)\n",
    "    tf.config.set_visible_devices([gpus[0]], \"GPU\")"
   ]
  },
  {
   "cell_type": "code",
   "execution_count": 3,
   "metadata": {},
   "outputs": [
    {
     "data": {
      "text/html": [
       "<div>\n",
       "<style scoped>\n",
       "    .dataframe tbody tr th:only-of-type {\n",
       "        vertical-align: middle;\n",
       "    }\n",
       "\n",
       "    .dataframe tbody tr th {\n",
       "        vertical-align: top;\n",
       "    }\n",
       "\n",
       "    .dataframe thead th {\n",
       "        text-align: right;\n",
       "    }\n",
       "</style>\n",
       "<table border=\"1\" class=\"dataframe\">\n",
       "  <thead>\n",
       "    <tr style=\"text-align: right;\">\n",
       "      <th></th>\n",
       "      <th>Open</th>\n",
       "      <th>High</th>\n",
       "      <th>Low</th>\n",
       "      <th>Close</th>\n",
       "      <th>Adj Close</th>\n",
       "      <th>Volume</th>\n",
       "    </tr>\n",
       "    <tr>\n",
       "      <th>Date</th>\n",
       "      <th></th>\n",
       "      <th></th>\n",
       "      <th></th>\n",
       "      <th></th>\n",
       "      <th></th>\n",
       "      <th></th>\n",
       "    </tr>\n",
       "  </thead>\n",
       "  <tbody>\n",
       "    <tr>\n",
       "      <th>2013-01-02</th>\n",
       "      <td>27.250000</td>\n",
       "      <td>27.730000</td>\n",
       "      <td>27.150000</td>\n",
       "      <td>27.620001</td>\n",
       "      <td>22.668236</td>\n",
       "      <td>52899300</td>\n",
       "    </tr>\n",
       "    <tr>\n",
       "      <th>2013-01-03</th>\n",
       "      <td>27.629999</td>\n",
       "      <td>27.650000</td>\n",
       "      <td>27.160000</td>\n",
       "      <td>27.250000</td>\n",
       "      <td>22.364561</td>\n",
       "      <td>48294400</td>\n",
       "    </tr>\n",
       "    <tr>\n",
       "      <th>2013-01-04</th>\n",
       "      <td>27.270000</td>\n",
       "      <td>27.340000</td>\n",
       "      <td>26.730000</td>\n",
       "      <td>26.740000</td>\n",
       "      <td>21.945997</td>\n",
       "      <td>52521100</td>\n",
       "    </tr>\n",
       "    <tr>\n",
       "      <th>2013-01-07</th>\n",
       "      <td>26.770000</td>\n",
       "      <td>26.879999</td>\n",
       "      <td>26.639999</td>\n",
       "      <td>26.690001</td>\n",
       "      <td>21.904963</td>\n",
       "      <td>37110400</td>\n",
       "    </tr>\n",
       "    <tr>\n",
       "      <th>2013-01-08</th>\n",
       "      <td>26.750000</td>\n",
       "      <td>26.790001</td>\n",
       "      <td>26.459999</td>\n",
       "      <td>26.549999</td>\n",
       "      <td>21.790064</td>\n",
       "      <td>44703100</td>\n",
       "    </tr>\n",
       "    <tr>\n",
       "      <th>...</th>\n",
       "      <td>...</td>\n",
       "      <td>...</td>\n",
       "      <td>...</td>\n",
       "      <td>...</td>\n",
       "      <td>...</td>\n",
       "      <td>...</td>\n",
       "    </tr>\n",
       "    <tr>\n",
       "      <th>2022-12-23</th>\n",
       "      <td>236.110001</td>\n",
       "      <td>238.869995</td>\n",
       "      <td>233.940002</td>\n",
       "      <td>238.729996</td>\n",
       "      <td>237.614105</td>\n",
       "      <td>21207000</td>\n",
       "    </tr>\n",
       "    <tr>\n",
       "      <th>2022-12-27</th>\n",
       "      <td>238.699997</td>\n",
       "      <td>238.929993</td>\n",
       "      <td>235.830002</td>\n",
       "      <td>236.960007</td>\n",
       "      <td>235.852386</td>\n",
       "      <td>16688600</td>\n",
       "    </tr>\n",
       "    <tr>\n",
       "      <th>2022-12-28</th>\n",
       "      <td>236.889999</td>\n",
       "      <td>239.720001</td>\n",
       "      <td>234.169998</td>\n",
       "      <td>234.529999</td>\n",
       "      <td>233.433731</td>\n",
       "      <td>17457100</td>\n",
       "    </tr>\n",
       "    <tr>\n",
       "      <th>2022-12-29</th>\n",
       "      <td>235.649994</td>\n",
       "      <td>241.919998</td>\n",
       "      <td>235.649994</td>\n",
       "      <td>241.009995</td>\n",
       "      <td>239.883453</td>\n",
       "      <td>19770700</td>\n",
       "    </tr>\n",
       "    <tr>\n",
       "      <th>2022-12-30</th>\n",
       "      <td>238.210007</td>\n",
       "      <td>239.960007</td>\n",
       "      <td>236.660004</td>\n",
       "      <td>239.820007</td>\n",
       "      <td>238.699020</td>\n",
       "      <td>21938500</td>\n",
       "    </tr>\n",
       "  </tbody>\n",
       "</table>\n",
       "<p>2518 rows × 6 columns</p>\n",
       "</div>"
      ],
      "text/plain": [
       "                  Open        High         Low       Close   Adj Close  \\\n",
       "Date                                                                     \n",
       "2013-01-02   27.250000   27.730000   27.150000   27.620001   22.668236   \n",
       "2013-01-03   27.629999   27.650000   27.160000   27.250000   22.364561   \n",
       "2013-01-04   27.270000   27.340000   26.730000   26.740000   21.945997   \n",
       "2013-01-07   26.770000   26.879999   26.639999   26.690001   21.904963   \n",
       "2013-01-08   26.750000   26.790001   26.459999   26.549999   21.790064   \n",
       "...                ...         ...         ...         ...         ...   \n",
       "2022-12-23  236.110001  238.869995  233.940002  238.729996  237.614105   \n",
       "2022-12-27  238.699997  238.929993  235.830002  236.960007  235.852386   \n",
       "2022-12-28  236.889999  239.720001  234.169998  234.529999  233.433731   \n",
       "2022-12-29  235.649994  241.919998  235.649994  241.009995  239.883453   \n",
       "2022-12-30  238.210007  239.960007  236.660004  239.820007  238.699020   \n",
       "\n",
       "              Volume  \n",
       "Date                  \n",
       "2013-01-02  52899300  \n",
       "2013-01-03  48294400  \n",
       "2013-01-04  52521100  \n",
       "2013-01-07  37110400  \n",
       "2013-01-08  44703100  \n",
       "...              ...  \n",
       "2022-12-23  21207000  \n",
       "2022-12-27  16688600  \n",
       "2022-12-28  17457100  \n",
       "2022-12-29  19770700  \n",
       "2022-12-30  21938500  \n",
       "\n",
       "[2518 rows x 6 columns]"
      ]
     },
     "execution_count": 3,
     "metadata": {},
     "output_type": "execute_result"
    }
   ],
   "source": [
    "df = yf.download('MSFT', \n",
    "                      start='2013-01-01', \n",
    "                      end='2023-01-01', \n",
    "                      progress=False,)\n",
    "df"
   ]
  },
  {
   "cell_type": "code",
   "execution_count": 7,
   "metadata": {},
   "outputs": [
    {
     "data": {
      "text/plain": [
       "<matplotlib.legend.Legend at 0x28e070eeca0>"
      ]
     },
     "execution_count": 7,
     "metadata": {},
     "output_type": "execute_result"
    },
    {
     "data": {
      "image/png": "[encoded data removed]",
      "text/plain": [
       "<Figure size 640x480 with 1 Axes>"
      ]
     },
     "metadata": {},
     "output_type": "display_data"
    }
   ],
   "source": [
    "plt.plot(df.Close,label='Closing Price')\n",
    "plt.xlabel('Years')\n",
    "plt.ylabel('Price')\n",
    "plt.legend()"
   ]
  },
  {
   "cell_type": "code",
   "execution_count": 164,
   "metadata": {},
   "outputs": [
    {
     "data": {
      "text/plain": [
       "Date\n",
       "2013-01-02           NaN\n",
       "2013-01-03           NaN\n",
       "2013-01-04           NaN\n",
       "2013-01-07           NaN\n",
       "2013-01-08           NaN\n",
       "                 ...    \n",
       "2022-12-23    150.515600\n",
       "2022-12-27    150.157800\n",
       "2022-12-28    149.764699\n",
       "2022-12-29    149.412100\n",
       "2022-12-30    149.062199\n",
       "Name: Close, Length: 2518, dtype: float64"
      ]
     },
     "execution_count": 164,
     "metadata": {},
     "output_type": "execute_result"
    }
   ],
   "source": [
    "#moving average for 100 days\n",
    "ma100=df.Close.rolling(100).mean()\n",
    "ma100"
   ]
  },
  {
   "cell_type": "code",
   "execution_count": 165,
   "metadata": {},
   "outputs": [
    {
     "data": {
      "text/plain": [
       "[<matplotlib.lines.Line2D at 0x20842379640>]"
      ]
     },
     "execution_count": 165,
     "metadata": {},
     "output_type": "execute_result"
    },
    {
     "data": {
      "image/png": "[encoded data removed]",
      "text/plain": [
       "<Figure size 1200x600 with 1 Axes>"
      ]
     },
     "metadata": {},
     "output_type": "display_data"
    }
   ],
   "source": [
    "plt.figure(figsize=(12,6))\n",
    "plt.plot(df.Close)\n",
    "plt.plot(ma100,'r')"
   ]
  },
  {
   "cell_type": "code",
   "execution_count": 209,
   "metadata": {},
   "outputs": [
    {
     "data": {
      "text/plain": [
       "<matplotlib.legend.Legend at 0x2084d830b20>"
      ]
     },
     "execution_count": 209,
     "metadata": {},
     "output_type": "execute_result"
    },
    {
     "data": {
      "image/png": "[encoded data removed]",
      "text/plain": [
       "<Figure size 1200x600 with 1 Axes>"
      ]
     },
     "metadata": {},
     "output_type": "display_data"
    }
   ],
   "source": [
    "#moving average for 200 days\n",
    "ma200=df.Close.rolling(200).mean()\n",
    "plt.figure(figsize=(12,6))\n",
    "plt.plot(df.Close,label='Original')\n",
    "plt.plot(ma100,'r',label='MA100')\n",
    "plt.plot(ma200,'g',label='MA200')\n",
    "plt.legend()"
   ]
  },
  {
   "cell_type": "code",
   "execution_count": 167,
   "metadata": {},
   "outputs": [
    {
     "data": {
      "text/plain": [
       "(2518, 6)"
      ]
     },
     "execution_count": 167,
     "metadata": {},
     "output_type": "execute_result"
    }
   ],
   "source": [
    "df.shape"
   ]
  },
  {
   "cell_type": "code",
   "execution_count": 168,
   "metadata": {},
   "outputs": [
    {
     "data": {
      "text/html": [
       "<div>\n",
       "<style scoped>\n",
       "    .dataframe tbody tr th:only-of-type {\n",
       "        vertical-align: middle;\n",
       "    }\n",
       "\n",
       "    .dataframe tbody tr th {\n",
       "        vertical-align: top;\n",
       "    }\n",
       "\n",
       "    .dataframe thead th {\n",
       "        text-align: right;\n",
       "    }\n",
       "</style>\n",
       "<table border=\"1\" class=\"dataframe\">\n",
       "  <thead>\n",
       "    <tr style=\"text-align: right;\">\n",
       "      <th></th>\n",
       "      <th>Open</th>\n",
       "      <th>High</th>\n",
       "      <th>Low</th>\n",
       "      <th>Close</th>\n",
       "      <th>Adj Close</th>\n",
       "      <th>Volume</th>\n",
       "    </tr>\n",
       "  </thead>\n",
       "  <tbody>\n",
       "    <tr>\n",
       "      <th>count</th>\n",
       "      <td>2518.000000</td>\n",
       "      <td>2518.000000</td>\n",
       "      <td>2518.000000</td>\n",
       "      <td>2518.000000</td>\n",
       "      <td>2518.000000</td>\n",
       "      <td>2.518000e+03</td>\n",
       "    </tr>\n",
       "    <tr>\n",
       "      <th>mean</th>\n",
       "      <td>62.383387</td>\n",
       "      <td>63.087693</td>\n",
       "      <td>61.696664</td>\n",
       "      <td>62.416599</td>\n",
       "      <td>60.544589</td>\n",
       "      <td>1.713540e+08</td>\n",
       "    </tr>\n",
       "    <tr>\n",
       "      <th>std</th>\n",
       "      <td>48.683035</td>\n",
       "      <td>49.322128</td>\n",
       "      <td>48.051043</td>\n",
       "      <td>48.709794</td>\n",
       "      <td>49.173579</td>\n",
       "      <td>1.250497e+08</td>\n",
       "    </tr>\n",
       "    <tr>\n",
       "      <th>min</th>\n",
       "      <td>13.856071</td>\n",
       "      <td>14.271429</td>\n",
       "      <td>13.753571</td>\n",
       "      <td>13.947500</td>\n",
       "      <td>12.046195</td>\n",
       "      <td>3.519590e+07</td>\n",
       "    </tr>\n",
       "    <tr>\n",
       "      <th>25%</th>\n",
       "      <td>26.971250</td>\n",
       "      <td>27.219376</td>\n",
       "      <td>26.705000</td>\n",
       "      <td>26.983750</td>\n",
       "      <td>24.639017</td>\n",
       "      <td>9.188698e+07</td>\n",
       "    </tr>\n",
       "    <tr>\n",
       "      <th>50%</th>\n",
       "      <td>41.353750</td>\n",
       "      <td>41.872499</td>\n",
       "      <td>40.888750</td>\n",
       "      <td>41.313749</td>\n",
       "      <td>39.451433</td>\n",
       "      <td>1.301368e+08</td>\n",
       "    </tr>\n",
       "    <tr>\n",
       "      <th>75%</th>\n",
       "      <td>91.272499</td>\n",
       "      <td>92.881876</td>\n",
       "      <td>90.824377</td>\n",
       "      <td>91.526875</td>\n",
       "      <td>89.985533</td>\n",
       "      <td>2.045116e+08</td>\n",
       "    </tr>\n",
       "    <tr>\n",
       "      <th>max</th>\n",
       "      <td>182.630005</td>\n",
       "      <td>182.940002</td>\n",
       "      <td>179.119995</td>\n",
       "      <td>182.009995</td>\n",
       "      <td>180.683868</td>\n",
       "      <td>1.460852e+09</td>\n",
       "    </tr>\n",
       "  </tbody>\n",
       "</table>\n",
       "</div>"
      ],
      "text/plain": [
       "              Open         High          Low        Close    Adj Close  \\\n",
       "count  2518.000000  2518.000000  2518.000000  2518.000000  2518.000000   \n",
       "mean     62.383387    63.087693    61.696664    62.416599    60.544589   \n",
       "std      48.683035    49.322128    48.051043    48.709794    49.173579   \n",
       "min      13.856071    14.271429    13.753571    13.947500    12.046195   \n",
       "25%      26.971250    27.219376    26.705000    26.983750    24.639017   \n",
       "50%      41.353750    41.872499    40.888750    41.313749    39.451433   \n",
       "75%      91.272499    92.881876    90.824377    91.526875    89.985533   \n",
       "max     182.630005   182.940002   179.119995   182.009995   180.683868   \n",
       "\n",
       "             Volume  \n",
       "count  2.518000e+03  \n",
       "mean   1.713540e+08  \n",
       "std    1.250497e+08  \n",
       "min    3.519590e+07  \n",
       "25%    9.188698e+07  \n",
       "50%    1.301368e+08  \n",
       "75%    2.045116e+08  \n",
       "max    1.460852e+09  "
      ]
     },
     "execution_count": 168,
     "metadata": {},
     "output_type": "execute_result"
    }
   ],
   "source": [
    "df.describe()"
   ]
  },
  {
   "cell_type": "code",
   "execution_count": 169,
   "metadata": {},
   "outputs": [
    {
     "data": {
      "text/html": [
       "<div>\n",
       "<style scoped>\n",
       "    .dataframe tbody tr th:only-of-type {\n",
       "        vertical-align: middle;\n",
       "    }\n",
       "\n",
       "    .dataframe tbody tr th {\n",
       "        vertical-align: top;\n",
       "    }\n",
       "\n",
       "    .dataframe thead th {\n",
       "        text-align: right;\n",
       "    }\n",
       "</style>\n",
       "<table border=\"1\" class=\"dataframe\">\n",
       "  <thead>\n",
       "    <tr style=\"text-align: right;\">\n",
       "      <th></th>\n",
       "      <th>Open</th>\n",
       "      <th>High</th>\n",
       "      <th>Low</th>\n",
       "      <th>Close</th>\n",
       "      <th>Adj Close</th>\n",
       "      <th>Volume</th>\n",
       "    </tr>\n",
       "    <tr>\n",
       "      <th>Date</th>\n",
       "      <th></th>\n",
       "      <th></th>\n",
       "      <th></th>\n",
       "      <th></th>\n",
       "      <th></th>\n",
       "      <th></th>\n",
       "    </tr>\n",
       "  </thead>\n",
       "  <tbody>\n",
       "    <tr>\n",
       "      <th>2013-01-02</th>\n",
       "      <td>19.779285</td>\n",
       "      <td>19.821428</td>\n",
       "      <td>19.343929</td>\n",
       "      <td>19.608213</td>\n",
       "      <td>16.837114</td>\n",
       "      <td>560518000</td>\n",
       "    </tr>\n",
       "    <tr>\n",
       "      <th>2013-01-03</th>\n",
       "      <td>19.567142</td>\n",
       "      <td>19.631071</td>\n",
       "      <td>19.321428</td>\n",
       "      <td>19.360714</td>\n",
       "      <td>16.624594</td>\n",
       "      <td>352965200</td>\n",
       "    </tr>\n",
       "    <tr>\n",
       "      <th>2013-01-04</th>\n",
       "      <td>19.177500</td>\n",
       "      <td>19.236786</td>\n",
       "      <td>18.779642</td>\n",
       "      <td>18.821428</td>\n",
       "      <td>16.161528</td>\n",
       "      <td>594333600</td>\n",
       "    </tr>\n",
       "    <tr>\n",
       "      <th>2013-01-07</th>\n",
       "      <td>18.642857</td>\n",
       "      <td>18.903570</td>\n",
       "      <td>18.400000</td>\n",
       "      <td>18.710714</td>\n",
       "      <td>16.066452</td>\n",
       "      <td>484156400</td>\n",
       "    </tr>\n",
       "    <tr>\n",
       "      <th>2013-01-08</th>\n",
       "      <td>18.900356</td>\n",
       "      <td>18.996071</td>\n",
       "      <td>18.616072</td>\n",
       "      <td>18.761070</td>\n",
       "      <td>16.109699</td>\n",
       "      <td>458707200</td>\n",
       "    </tr>\n",
       "    <tr>\n",
       "      <th>...</th>\n",
       "      <td>...</td>\n",
       "      <td>...</td>\n",
       "      <td>...</td>\n",
       "      <td>...</td>\n",
       "      <td>...</td>\n",
       "      <td>...</td>\n",
       "    </tr>\n",
       "    <tr>\n",
       "      <th>2022-12-23</th>\n",
       "      <td>130.919998</td>\n",
       "      <td>132.419998</td>\n",
       "      <td>129.639999</td>\n",
       "      <td>131.860001</td>\n",
       "      <td>131.658981</td>\n",
       "      <td>63814900</td>\n",
       "    </tr>\n",
       "    <tr>\n",
       "      <th>2022-12-27</th>\n",
       "      <td>131.380005</td>\n",
       "      <td>131.410004</td>\n",
       "      <td>128.720001</td>\n",
       "      <td>130.029999</td>\n",
       "      <td>129.831772</td>\n",
       "      <td>69007800</td>\n",
       "    </tr>\n",
       "    <tr>\n",
       "      <th>2022-12-28</th>\n",
       "      <td>129.669998</td>\n",
       "      <td>131.029999</td>\n",
       "      <td>125.870003</td>\n",
       "      <td>126.040001</td>\n",
       "      <td>125.847855</td>\n",
       "      <td>85438400</td>\n",
       "    </tr>\n",
       "    <tr>\n",
       "      <th>2022-12-29</th>\n",
       "      <td>127.989998</td>\n",
       "      <td>130.479996</td>\n",
       "      <td>127.730003</td>\n",
       "      <td>129.610001</td>\n",
       "      <td>129.412415</td>\n",
       "      <td>75703700</td>\n",
       "    </tr>\n",
       "    <tr>\n",
       "      <th>2022-12-30</th>\n",
       "      <td>128.410004</td>\n",
       "      <td>129.949997</td>\n",
       "      <td>127.430000</td>\n",
       "      <td>129.929993</td>\n",
       "      <td>129.731918</td>\n",
       "      <td>77034200</td>\n",
       "    </tr>\n",
       "  </tbody>\n",
       "</table>\n",
       "<p>2518 rows × 6 columns</p>\n",
       "</div>"
      ],
      "text/plain": [
       "                  Open        High         Low       Close   Adj Close  \\\n",
       "Date                                                                     \n",
       "2013-01-02   19.779285   19.821428   19.343929   19.608213   16.837114   \n",
       "2013-01-03   19.567142   19.631071   19.321428   19.360714   16.624594   \n",
       "2013-01-04   19.177500   19.236786   18.779642   18.821428   16.161528   \n",
       "2013-01-07   18.642857   18.903570   18.400000   18.710714   16.066452   \n",
       "2013-01-08   18.900356   18.996071   18.616072   18.761070   16.109699   \n",
       "...                ...         ...         ...         ...         ...   \n",
       "2022-12-23  130.919998  132.419998  129.639999  131.860001  131.658981   \n",
       "2022-12-27  131.380005  131.410004  128.720001  130.029999  129.831772   \n",
       "2022-12-28  129.669998  131.029999  125.870003  126.040001  125.847855   \n",
       "2022-12-29  127.989998  130.479996  127.730003  129.610001  129.412415   \n",
       "2022-12-30  128.410004  129.949997  127.430000  129.929993  129.731918   \n",
       "\n",
       "               Volume  \n",
       "Date                   \n",
       "2013-01-02  560518000  \n",
       "2013-01-03  352965200  \n",
       "2013-01-04  594333600  \n",
       "2013-01-07  484156400  \n",
       "2013-01-08  458707200  \n",
       "...               ...  \n",
       "2022-12-23   63814900  \n",
       "2022-12-27   69007800  \n",
       "2022-12-28   85438400  \n",
       "2022-12-29   75703700  \n",
       "2022-12-30   77034200  \n",
       "\n",
       "[2518 rows x 6 columns]"
      ]
     },
     "execution_count": 169,
     "metadata": {},
     "output_type": "execute_result"
    }
   ],
   "source": [
    "df.dropna()"
   ]
  },
  {
   "attachments": {},
   "cell_type": "markdown",
   "metadata": {},
   "source": [
    "Splitting into Training and Testing\n"
   ]
  },
  {
   "cell_type": "code",
   "execution_count": 4,
   "metadata": {},
   "outputs": [
    {
     "name": "stdout",
     "output_type": "stream",
     "text": [
      "(1762, 1)\n",
      "(756, 1)\n"
     ]
    }
   ],
   "source": [
    "data_training=pd.DataFrame(df['Close'][0:int(len(df)*0.70)])\n",
    "data_testing=pd.DataFrame(df['Close'][int(len(df)*0.70):int(len(df))])\n",
    "print(data_training.shape)\n",
    "print(data_testing.shape)"
   ]
  },
  {
   "cell_type": "code",
   "execution_count": 5,
   "metadata": {},
   "outputs": [
    {
     "data": {
      "text/html": [
       "<div>\n",
       "<style scoped>\n",
       "    .dataframe tbody tr th:only-of-type {\n",
       "        vertical-align: middle;\n",
       "    }\n",
       "\n",
       "    .dataframe tbody tr th {\n",
       "        vertical-align: top;\n",
       "    }\n",
       "\n",
       "    .dataframe thead th {\n",
       "        text-align: right;\n",
       "    }\n",
       "</style>\n",
       "<table border=\"1\" class=\"dataframe\">\n",
       "  <thead>\n",
       "    <tr style=\"text-align: right;\">\n",
       "      <th></th>\n",
       "      <th>Close</th>\n",
       "    </tr>\n",
       "    <tr>\n",
       "      <th>Date</th>\n",
       "      <th></th>\n",
       "    </tr>\n",
       "  </thead>\n",
       "  <tbody>\n",
       "    <tr>\n",
       "      <th>2020-01-02</th>\n",
       "      <td>160.619995</td>\n",
       "    </tr>\n",
       "    <tr>\n",
       "      <th>2020-01-03</th>\n",
       "      <td>158.619995</td>\n",
       "    </tr>\n",
       "    <tr>\n",
       "      <th>2020-01-06</th>\n",
       "      <td>159.029999</td>\n",
       "    </tr>\n",
       "    <tr>\n",
       "      <th>2020-01-07</th>\n",
       "      <td>157.580002</td>\n",
       "    </tr>\n",
       "    <tr>\n",
       "      <th>2020-01-08</th>\n",
       "      <td>160.089996</td>\n",
       "    </tr>\n",
       "  </tbody>\n",
       "</table>\n",
       "</div>"
      ],
      "text/plain": [
       "                 Close\n",
       "Date                  \n",
       "2020-01-02  160.619995\n",
       "2020-01-03  158.619995\n",
       "2020-01-06  159.029999\n",
       "2020-01-07  157.580002\n",
       "2020-01-08  160.089996"
      ]
     },
     "execution_count": 5,
     "metadata": {},
     "output_type": "execute_result"
    }
   ],
   "source": [
    "data_testing.head()"
   ]
  },
  {
   "cell_type": "code",
   "execution_count": 6,
   "metadata": {},
   "outputs": [],
   "source": [
    "from sklearn.preprocessing import MinMaxScaler\n",
    "scaler=MinMaxScaler(feature_range=(0,1))"
   ]
  },
  {
   "cell_type": "code",
   "execution_count": 7,
   "metadata": {},
   "outputs": [],
   "source": [
    "data_training_array=scaler.fit_transform(data_training)"
   ]
  },
  {
   "cell_type": "code",
   "execution_count": 8,
   "metadata": {},
   "outputs": [],
   "source": [
    "x_train=[]\n",
    "y_train=[]\n",
    "for i in range(100,data_training_array.shape[0]):\n",
    "    x_train.append(data_training_array[i-100:i])\n",
    "    y_train.append(data_training_array[i,0])\n",
    "x_train,y_train=np.array(x_train),np.array(y_train)"
   ]
  },
  {
   "cell_type": "code",
   "execution_count": 175,
   "metadata": {},
   "outputs": [],
   "source": [
    "from keras.models import Sequential\n",
    "from keras.layers import Dense, Dropout, LSTM, Input, Activation, concatenate\n",
    "from keras.models import Model\n",
    "from keras import optimizers"
   ]
  },
  {
   "cell_type": "code",
   "execution_count": 176,
   "metadata": {},
   "outputs": [
    {
     "name": "stdout",
     "output_type": "stream",
     "text": [
      "Epoch 1/30\n",
      "100/100 [==============================] - 8s 65ms/step - loss: 0.0053 - val_loss: 6.5201e-04\n",
      "Epoch 2/30\n",
      "100/100 [==============================] - 6s 60ms/step - loss: 3.2002e-04 - val_loss: 6.2948e-04\n",
      "Epoch 3/30\n",
      "100/100 [==============================] - 6s 61ms/step - loss: 3.0998e-04 - val_loss: 6.5560e-04\n",
      "Epoch 4/30\n",
      "100/100 [==============================] - 6s 65ms/step - loss: 2.8114e-04 - val_loss: 5.5124e-04\n",
      "Epoch 5/30\n",
      "100/100 [==============================] - 8s 79ms/step - loss: 2.7591e-04 - val_loss: 5.3300e-04\n",
      "Epoch 6/30\n",
      "100/100 [==============================] - 8s 77ms/step - loss: 3.1018e-04 - val_loss: 5.4978e-04\n",
      "Epoch 7/30\n",
      "100/100 [==============================] - 8s 85ms/step - loss: 2.5133e-04 - val_loss: 5.6657e-04\n",
      "Epoch 8/30\n",
      "100/100 [==============================] - 9s 90ms/step - loss: 2.4919e-04 - val_loss: 5.0045e-04\n",
      "Epoch 9/30\n",
      "100/100 [==============================] - 9s 94ms/step - loss: 2.2907e-04 - val_loss: 5.1798e-04\n",
      "Epoch 10/30\n",
      "100/100 [==============================] - 9s 92ms/step - loss: 2.2294e-04 - val_loss: 9.7156e-04\n",
      "Epoch 11/30\n",
      "100/100 [==============================] - 9s 90ms/step - loss: 2.1364e-04 - val_loss: 0.0011\n",
      "Epoch 12/30\n",
      "100/100 [==============================] - 9s 92ms/step - loss: 2.3343e-04 - val_loss: 3.9166e-04\n",
      "Epoch 13/30\n",
      "100/100 [==============================] - 9s 91ms/step - loss: 2.1842e-04 - val_loss: 3.9756e-04\n",
      "Epoch 14/30\n",
      "100/100 [==============================] - 9s 91ms/step - loss: 1.7793e-04 - val_loss: 3.8859e-04\n",
      "Epoch 15/30\n",
      "100/100 [==============================] - 9s 94ms/step - loss: 2.0916e-04 - val_loss: 4.4194e-04\n",
      "Epoch 16/30\n",
      "100/100 [==============================] - 10s 96ms/step - loss: 1.7080e-04 - val_loss: 3.4262e-04\n",
      "Epoch 17/30\n",
      "100/100 [==============================] - 9s 95ms/step - loss: 1.7234e-04 - val_loss: 7.2535e-04\n",
      "Epoch 18/30\n",
      "100/100 [==============================] - 10s 97ms/step - loss: 1.7640e-04 - val_loss: 9.5760e-04\n",
      "Epoch 19/30\n",
      "100/100 [==============================] - 10s 96ms/step - loss: 1.6443e-04 - val_loss: 3.2270e-04\n",
      "Epoch 20/30\n",
      "100/100 [==============================] - 10s 101ms/step - loss: 1.7564e-04 - val_loss: 3.3624e-04\n",
      "Epoch 21/30\n",
      "100/100 [==============================] - 10s 99ms/step - loss: 1.5185e-04 - val_loss: 3.2504e-04\n",
      "Epoch 22/30\n",
      "100/100 [==============================] - 10s 102ms/step - loss: 1.5166e-04 - val_loss: 3.1582e-04\n",
      "Epoch 23/30\n",
      "100/100 [==============================] - 10s 103ms/step - loss: 1.4362e-04 - val_loss: 3.0393e-04\n",
      "Epoch 24/30\n",
      "100/100 [==============================] - 10s 104ms/step - loss: 1.3113e-04 - val_loss: 4.0526e-04\n",
      "Epoch 25/30\n",
      "100/100 [==============================] - 10s 104ms/step - loss: 1.3104e-04 - val_loss: 3.7731e-04\n",
      "Epoch 26/30\n",
      "100/100 [==============================] - 11s 108ms/step - loss: 1.3949e-04 - val_loss: 3.8236e-04\n",
      "Epoch 27/30\n",
      "100/100 [==============================] - 11s 108ms/step - loss: 1.3233e-04 - val_loss: 5.4994e-04\n",
      "Epoch 28/30\n",
      "100/100 [==============================] - 11s 110ms/step - loss: 1.4014e-04 - val_loss: 2.7079e-04\n",
      "Epoch 29/30\n",
      "100/100 [==============================] - 12s 117ms/step - loss: 1.2721e-04 - val_loss: 3.2975e-04\n",
      "Epoch 30/30\n",
      "100/100 [==============================] - 12s 116ms/step - loss: 1.3923e-04 - val_loss: 5.9323e-04\n"
     ]
    },
    {
     "data": {
      "text/plain": [
       "<keras.src.callbacks.History at 0x208365824c0>"
      ]
     },
     "execution_count": 176,
     "metadata": {},
     "output_type": "execute_result"
    }
   ],
   "source": [
    "lstm_input = Input(shape=(x_train.shape[1], 1), name='lstm_input')\n",
    "inputs = LSTM(150, name='first_layer')(lstm_input)\n",
    "inputs = Dense(1, name='dense_layer')(inputs)\n",
    "output = Activation('linear', name='output')(inputs)\n",
    "lstm_model = Model(inputs=lstm_input, outputs=output)\n",
    "adam = optimizers.Adam()\n",
    "lstm_model.compile(optimizer=adam, loss='mse')\n",
    "lstm_model.fit(x=x_train, y=y_train, batch_size=15, epochs=30, shuffle=True, validation_split = 0.1)"
   ]
  },
  {
   "cell_type": "code",
   "execution_count": 177,
   "metadata": {},
   "outputs": [
    {
     "name": "stdout",
     "output_type": "stream",
     "text": [
      "Model: \"model_9\"\n",
      "_________________________________________________________________\n",
      " Layer (type)                Output Shape              Param #   \n",
      "=================================================================\n",
      " lstm_input (InputLayer)     [(None, 100, 1)]          0         \n",
      "                                                                 \n",
      " first_layer (LSTM)          (None, 150)               91200     \n",
      "                                                                 \n",
      " dense_layer (Dense)         (None, 1)                 151       \n",
      "                                                                 \n",
      " output (Activation)         (None, 1)                 0         \n",
      "                                                                 \n",
      "=================================================================\n",
      "Total params: 91351 (356.84 KB)\n",
      "Trainable params: 91351 (356.84 KB)\n",
      "Non-trainable params: 0 (0.00 Byte)\n",
      "_________________________________________________________________\n"
     ]
    }
   ],
   "source": [
    "lstm_model.summary()"
   ]
  },
  {
   "cell_type": "code",
   "execution_count": 178,
   "metadata": {},
   "outputs": [],
   "source": [
    "#lstm_model.save('lstm.h5')"
   ]
  },
  {
   "attachments": {},
   "cell_type": "markdown",
   "metadata": {},
   "source": [
    "## Testing Data\n",
    "we'll be using the last 100 days to predict the price of the stock for the next day. "
   ]
  },
  {
   "cell_type": "code",
   "execution_count": 14,
   "metadata": {},
   "outputs": [
    {
     "name": "stdout",
     "output_type": "stream",
     "text": [
      "(756, 100, 1)\n",
      "(756,)\n"
     ]
    }
   ],
   "source": [
    "past_100_days=data_training.tail(100)\n",
    "df_append=pd.DataFrame(data_testing)\n",
    "final_df=pd.concat([past_100_days,df_append])\n",
    "#final_df=past_100_days.append(data_testing,ignore_index=True)\n",
    "input_data=scaler.fit_transform(final_df)\n",
    "x_test=[]\n",
    "y_test=[]\n",
    "for i in range(100,input_data.shape[0]):\n",
    "    x_test.append(input_data[i-100:i])\n",
    "    y_test.append(input_data[i,0])\n",
    "x_test,y_test=np.array(x_test),np.array(y_test)\n",
    "print(x_test.shape)\n",
    "print(y_test.shape)"
   ]
  },
  {
   "attachments": {},
   "cell_type": "markdown",
   "metadata": {},
   "source": [
    "## BIDIRECTIONAL LSTM"
   ]
  },
  {
   "cell_type": "code",
   "execution_count": 180,
   "metadata": {},
   "outputs": [],
   "source": [
    "from keras.models import Sequential\n",
    "from keras.layers import Dense, LSTM, Bidirectional"
   ]
  },
  {
   "cell_type": "code",
   "execution_count": 181,
   "metadata": {},
   "outputs": [
    {
     "name": "stdout",
     "output_type": "stream",
     "text": [
      "Epoch 1/30\n",
      "100/100 [==============================] - 18s 151ms/step - loss: 0.0042 - val_loss: 8.1567e-04\n",
      "Epoch 2/30\n",
      "100/100 [==============================] - 15s 150ms/step - loss: 6.5275e-04 - val_loss: 0.0018\n",
      "Epoch 3/30\n",
      "100/100 [==============================] - 15s 150ms/step - loss: 4.6280e-04 - val_loss: 6.0892e-04\n",
      "Epoch 4/30\n",
      "100/100 [==============================] - 16s 157ms/step - loss: 3.5096e-04 - val_loss: 0.0013\n",
      "Epoch 5/30\n",
      "100/100 [==============================] - 16s 163ms/step - loss: 2.5522e-04 - val_loss: 9.5268e-04\n",
      "Epoch 6/30\n",
      "100/100 [==============================] - 16s 165ms/step - loss: 2.8603e-04 - val_loss: 5.1211e-04\n",
      "Epoch 7/30\n",
      "100/100 [==============================] - 17s 166ms/step - loss: 2.4801e-04 - val_loss: 0.0014\n",
      "Epoch 8/30\n",
      "100/100 [==============================] - 17s 168ms/step - loss: 2.8826e-04 - val_loss: 4.8538e-04\n",
      "Epoch 9/30\n",
      "100/100 [==============================] - 16s 164ms/step - loss: 2.3534e-04 - val_loss: 4.6016e-04\n",
      "Epoch 10/30\n",
      "100/100 [==============================] - 17s 168ms/step - loss: 1.8984e-04 - val_loss: 5.4783e-04\n",
      "Epoch 11/30\n",
      "100/100 [==============================] - 17s 167ms/step - loss: 2.1077e-04 - val_loss: 5.0473e-04\n",
      "Epoch 12/30\n",
      "100/100 [==============================] - 17s 166ms/step - loss: 2.3826e-04 - val_loss: 4.4317e-04\n",
      "Epoch 13/30\n",
      "100/100 [==============================] - 17s 167ms/step - loss: 2.3328e-04 - val_loss: 4.1035e-04\n",
      "Epoch 14/30\n",
      "100/100 [==============================] - 17s 168ms/step - loss: 2.0464e-04 - val_loss: 3.8726e-04\n",
      "Epoch 15/30\n",
      "100/100 [==============================] - 17s 166ms/step - loss: 2.0848e-04 - val_loss: 3.9301e-04\n",
      "Epoch 16/30\n",
      "100/100 [==============================] - 18s 175ms/step - loss: 1.6618e-04 - val_loss: 0.0013\n",
      "Epoch 17/30\n",
      "100/100 [==============================] - 18s 178ms/step - loss: 1.6655e-04 - val_loss: 4.1412e-04\n",
      "Epoch 18/30\n",
      "100/100 [==============================] - 18s 183ms/step - loss: 1.4572e-04 - val_loss: 3.7354e-04\n",
      "Epoch 19/30\n",
      "100/100 [==============================] - 18s 183ms/step - loss: 1.6262e-04 - val_loss: 4.6173e-04\n",
      "Epoch 20/30\n",
      "100/100 [==============================] - 17s 172ms/step - loss: 1.4777e-04 - val_loss: 3.2078e-04\n",
      "Epoch 21/30\n",
      "100/100 [==============================] - 17s 171ms/step - loss: 1.4158e-04 - val_loss: 3.0716e-04\n",
      "Epoch 22/30\n",
      "100/100 [==============================] - 17s 173ms/step - loss: 1.4731e-04 - val_loss: 2.8730e-04\n",
      "Epoch 23/30\n",
      "100/100 [==============================] - 17s 170ms/step - loss: 1.3733e-04 - val_loss: 3.0949e-04\n",
      "Epoch 24/30\n",
      "100/100 [==============================] - 17s 168ms/step - loss: 2.0098e-04 - val_loss: 3.0843e-04\n",
      "Epoch 25/30\n",
      "100/100 [==============================] - 18s 179ms/step - loss: 1.8837e-04 - val_loss: 3.1138e-04\n",
      "Epoch 26/30\n",
      "100/100 [==============================] - 17s 172ms/step - loss: 1.3291e-04 - val_loss: 2.6246e-04\n",
      "Epoch 27/30\n",
      "100/100 [==============================] - 17s 170ms/step - loss: 1.5298e-04 - val_loss: 4.7525e-04\n",
      "Epoch 28/30\n",
      "100/100 [==============================] - 17s 171ms/step - loss: 1.3777e-04 - val_loss: 2.6471e-04\n",
      "Epoch 29/30\n",
      "100/100 [==============================] - 17s 171ms/step - loss: 1.3042e-04 - val_loss: 5.0115e-04\n",
      "Epoch 30/30\n",
      "100/100 [==============================] - 18s 176ms/step - loss: 1.3218e-04 - val_loss: 2.3374e-04\n"
     ]
    },
    {
     "data": {
      "text/plain": [
       "<keras.src.callbacks.History at 0x208420b3ac0>"
      ]
     },
     "execution_count": 181,
     "metadata": {},
     "output_type": "execute_result"
    }
   ],
   "source": [
    "bi_input = Input(shape=(x_train.shape[1], 1), name='lstm_input')\n",
    "inputs = Bidirectional(LSTM(150, name='first_layer'))(bi_input)\n",
    "inputs = Dense(1, name='dense_layer')(inputs)\n",
    "output = Activation('relu', name='output')(inputs)\n",
    "bi_model = Model(inputs=bi_input, outputs=output)\n",
    "adam = optimizers.Adam()\n",
    "bi_model.compile(optimizer=adam, loss='mse')\n",
    "bi_model.fit(x=x_train, y=y_train, batch_size=15, epochs=30, shuffle=True, validation_split=0.1)"
   ]
  },
  {
   "cell_type": "code",
   "execution_count": 182,
   "metadata": {},
   "outputs": [
    {
     "name": "stdout",
     "output_type": "stream",
     "text": [
      "Model: \"model_10\"\n",
      "_________________________________________________________________\n",
      " Layer (type)                Output Shape              Param #   \n",
      "=================================================================\n",
      " lstm_input (InputLayer)     [(None, 100, 1)]          0         \n",
      "                                                                 \n",
      " bidirectional_3 (Bidirecti  (None, 300)               182400    \n",
      " onal)                                                           \n",
      "                                                                 \n",
      " dense_layer (Dense)         (None, 1)                 301       \n",
      "                                                                 \n",
      " output (Activation)         (None, 1)                 0         \n",
      "                                                                 \n",
      "=================================================================\n",
      "Total params: 182701 (713.68 KB)\n",
      "Trainable params: 182701 (713.68 KB)\n",
      "Non-trainable params: 0 (0.00 Byte)\n",
      "_________________________________________________________________\n"
     ]
    }
   ],
   "source": [
    "bi_model.summary()"
   ]
  },
  {
   "cell_type": "code",
   "execution_count": 183,
   "metadata": {},
   "outputs": [],
   "source": [
    "#bi_model.save('BI_LSTM.h5')"
   ]
  },
  {
   "attachments": {},
   "cell_type": "markdown",
   "metadata": {},
   "source": [
    "## GRU MODEL IMPLEMENTATION\n"
   ]
  },
  {
   "cell_type": "code",
   "execution_count": 184,
   "metadata": {},
   "outputs": [
    {
     "name": "stdout",
     "output_type": "stream",
     "text": [
      "Epoch 1/30\n",
      "100/100 [==============================] - 15s 130ms/step - loss: 0.0051 - val_loss: 4.7914e-04\n",
      "Epoch 2/30\n",
      "100/100 [==============================] - 12s 121ms/step - loss: 1.7614e-04 - val_loss: 5.5153e-04\n",
      "Epoch 3/30\n",
      "100/100 [==============================] - 12s 121ms/step - loss: 1.5763e-04 - val_loss: 5.7817e-04\n",
      "Epoch 4/30\n",
      "100/100 [==============================] - 12s 121ms/step - loss: 1.6912e-04 - val_loss: 2.9148e-04\n",
      "Epoch 5/30\n",
      "100/100 [==============================] - 12s 122ms/step - loss: 1.4129e-04 - val_loss: 2.9566e-04\n",
      "Epoch 6/30\n",
      "100/100 [==============================] - 12s 122ms/step - loss: 1.4394e-04 - val_loss: 2.9226e-04\n",
      "Epoch 7/30\n",
      "100/100 [==============================] - 12s 120ms/step - loss: 1.5710e-04 - val_loss: 2.8829e-04\n",
      "Epoch 8/30\n",
      "100/100 [==============================] - 12s 121ms/step - loss: 1.3501e-04 - val_loss: 2.8235e-04\n",
      "Epoch 9/30\n",
      "100/100 [==============================] - 12s 122ms/step - loss: 1.4061e-04 - val_loss: 2.5455e-04\n",
      "Epoch 10/30\n",
      "100/100 [==============================] - 12s 119ms/step - loss: 1.2004e-04 - val_loss: 5.3204e-04\n",
      "Epoch 11/30\n",
      "100/100 [==============================] - 12s 122ms/step - loss: 1.2934e-04 - val_loss: 2.4389e-04\n",
      "Epoch 12/30\n",
      "100/100 [==============================] - 12s 120ms/step - loss: 1.2217e-04 - val_loss: 3.2334e-04\n",
      "Epoch 13/30\n",
      "100/100 [==============================] - 12s 124ms/step - loss: 1.2814e-04 - val_loss: 2.2787e-04\n",
      "Epoch 14/30\n",
      "100/100 [==============================] - 13s 128ms/step - loss: 1.1428e-04 - val_loss: 4.0531e-04\n",
      "Epoch 15/30\n",
      "100/100 [==============================] - 13s 127ms/step - loss: 1.1397e-04 - val_loss: 2.2047e-04\n",
      "Epoch 16/30\n",
      "100/100 [==============================] - 12s 124ms/step - loss: 1.0934e-04 - val_loss: 2.1524e-04\n",
      "Epoch 17/30\n",
      "100/100 [==============================] - 12s 120ms/step - loss: 1.0754e-04 - val_loss: 3.3641e-04\n",
      "Epoch 18/30\n",
      "100/100 [==============================] - 12s 121ms/step - loss: 1.1437e-04 - val_loss: 2.2070e-04\n",
      "Epoch 19/30\n",
      "100/100 [==============================] - 12s 122ms/step - loss: 1.0779e-04 - val_loss: 2.3366e-04\n",
      "Epoch 20/30\n",
      "100/100 [==============================] - 12s 120ms/step - loss: 1.0678e-04 - val_loss: 2.2901e-04\n",
      "Epoch 21/30\n",
      "100/100 [==============================] - 12s 120ms/step - loss: 1.1030e-04 - val_loss: 3.4181e-04\n",
      "Epoch 22/30\n",
      "100/100 [==============================] - 12s 120ms/step - loss: 1.0981e-04 - val_loss: 2.1160e-04\n",
      "Epoch 23/30\n",
      "100/100 [==============================] - 12s 120ms/step - loss: 1.0262e-04 - val_loss: 2.8483e-04\n",
      "Epoch 24/30\n",
      "100/100 [==============================] - 12s 122ms/step - loss: 9.8142e-05 - val_loss: 2.2635e-04\n",
      "Epoch 25/30\n",
      "100/100 [==============================] - 12s 120ms/step - loss: 1.0312e-04 - val_loss: 2.7784e-04\n",
      "Epoch 26/30\n",
      "100/100 [==============================] - 12s 120ms/step - loss: 1.0055e-04 - val_loss: 2.5442e-04\n",
      "Epoch 27/30\n",
      "100/100 [==============================] - 12s 119ms/step - loss: 9.8761e-05 - val_loss: 2.7767e-04\n",
      "Epoch 28/30\n",
      "100/100 [==============================] - 12s 118ms/step - loss: 9.6809e-05 - val_loss: 1.9948e-04\n",
      "Epoch 29/30\n",
      "100/100 [==============================] - 12s 122ms/step - loss: 1.0395e-04 - val_loss: 2.0615e-04\n",
      "Epoch 30/30\n",
      "100/100 [==============================] - 12s 119ms/step - loss: 9.1036e-05 - val_loss: 2.1915e-04\n"
     ]
    },
    {
     "data": {
      "text/plain": [
       "<keras.src.callbacks.History at 0x20841f8fb80>"
      ]
     },
     "execution_count": 184,
     "metadata": {},
     "output_type": "execute_result"
    }
   ],
   "source": [
    "from keras.layers import GRU\n",
    "gru_input = Input(shape=(x_train.shape[1], 1), name='gru_input')\n",
    "inputs = GRU(150, name='first_layer')(gru_input)\n",
    "inputs = Dense(1, name='dense_layer')(inputs)\n",
    "output = Activation('linear', name='output')(inputs)\n",
    "gru_model = Model(inputs=gru_input, outputs=output)\n",
    "adam = optimizers.Adam()\n",
    "gru_model.compile(optimizer=adam, loss='mse')\n",
    "gru_model.fit(x=x_train, y=y_train, batch_size=15, epochs=30, shuffle=True, validation_split=0.1)"
   ]
  },
  {
   "cell_type": "code",
   "execution_count": 185,
   "metadata": {},
   "outputs": [
    {
     "name": "stdout",
     "output_type": "stream",
     "text": [
      "Model: \"model_11\"\n",
      "_________________________________________________________________\n",
      " Layer (type)                Output Shape              Param #   \n",
      "=================================================================\n",
      " gru_input (InputLayer)      [(None, 100, 1)]          0         \n",
      "                                                                 \n",
      " first_layer (GRU)           (None, 150)               68850     \n",
      "                                                                 \n",
      " dense_layer (Dense)         (None, 1)                 151       \n",
      "                                                                 \n",
      " output (Activation)         (None, 1)                 0         \n",
      "                                                                 \n",
      "=================================================================\n",
      "Total params: 69001 (269.54 KB)\n",
      "Trainable params: 69001 (269.54 KB)\n",
      "Non-trainable params: 0 (0.00 Byte)\n",
      "_________________________________________________________________\n"
     ]
    }
   ],
   "source": [
    "gru_model.summary()"
   ]
  },
  {
   "cell_type": "code",
   "execution_count": 186,
   "metadata": {},
   "outputs": [],
   "source": [
    "#gru_model.save('GRU.h5')"
   ]
  },
  {
   "attachments": {},
   "cell_type": "markdown",
   "metadata": {},
   "source": [
    "# XGBOOST + BILSTM"
   ]
  },
  {
   "cell_type": "code",
   "execution_count": 187,
   "metadata": {},
   "outputs": [
    {
     "name": "stdout",
     "output_type": "stream",
     "text": [
      "24/24 [==============================] - 2s 65ms/step\n",
      "52/52 [==============================] - 4s 81ms/step\n"
     ]
    },
    {
     "data": {
      "text/html": [
       "<style>#sk-container-id-5 {color: black;background-color: white;}#sk-container-id-5 pre{padding: 0;}#sk-container-id-5 div.sk-toggleable {background-color: white;}#sk-container-id-5 label.sk-toggleable__label {cursor: pointer;display: block;width: 100%;margin-bottom: 0;padding: 0.3em;box-sizing: border-box;text-align: center;}#sk-container-id-5 label.sk-toggleable__label-arrow:before {content: \"▸\";float: left;margin-right: 0.25em;color: #696969;}#sk-container-id-5 label.sk-toggleable__label-arrow:hover:before {color: black;}#sk-container-id-5 div.sk-estimator:hover label.sk-toggleable__label-arrow:before {color: black;}#sk-container-id-5 div.sk-toggleable__content {max-height: 0;max-width: 0;overflow: hidden;text-align: left;background-color: #f0f8ff;}#sk-container-id-5 div.sk-toggleable__content pre {margin: 0.2em;color: black;border-radius: 0.25em;background-color: #f0f8ff;}#sk-container-id-5 input.sk-toggleable__control:checked~div.sk-toggleable__content {max-height: 200px;max-width: 100%;overflow: auto;}#sk-container-id-5 input.sk-toggleable__control:checked~label.sk-toggleable__label-arrow:before {content: \"▾\";}#sk-container-id-5 div.sk-estimator input.sk-toggleable__control:checked~label.sk-toggleable__label {background-color: #d4ebff;}#sk-container-id-5 div.sk-label input.sk-toggleable__control:checked~label.sk-toggleable__label {background-color: #d4ebff;}#sk-container-id-5 input.sk-hidden--visually {border: 0;clip: rect(1px 1px 1px 1px);clip: rect(1px, 1px, 1px, 1px);height: 1px;margin: -1px;overflow: hidden;padding: 0;position: absolute;width: 1px;}#sk-container-id-5 div.sk-estimator {font-family: monospace;background-color: #f0f8ff;border: 1px dotted black;border-radius: 0.25em;box-sizing: border-box;margin-bottom: 0.5em;}#sk-container-id-5 div.sk-estimator:hover {background-color: #d4ebff;}#sk-container-id-5 div.sk-parallel-item::after {content: \"\";width: 100%;border-bottom: 1px solid gray;flex-grow: 1;}#sk-container-id-5 div.sk-label:hover label.sk-toggleable__label {background-color: #d4ebff;}#sk-container-id-5 div.sk-serial::before {content: \"\";position: absolute;border-left: 1px solid gray;box-sizing: border-box;top: 0;bottom: 0;left: 50%;z-index: 0;}#sk-container-id-5 div.sk-serial {display: flex;flex-direction: column;align-items: center;background-color: white;padding-right: 0.2em;padding-left: 0.2em;position: relative;}#sk-container-id-5 div.sk-item {position: relative;z-index: 1;}#sk-container-id-5 div.sk-parallel {display: flex;align-items: stretch;justify-content: center;background-color: white;position: relative;}#sk-container-id-5 div.sk-item::before, #sk-container-id-5 div.sk-parallel-item::before {content: \"\";position: absolute;border-left: 1px solid gray;box-sizing: border-box;top: 0;bottom: 0;left: 50%;z-index: -1;}#sk-container-id-5 div.sk-parallel-item {display: flex;flex-direction: column;z-index: 1;position: relative;background-color: white;}#sk-container-id-5 div.sk-parallel-item:first-child::after {align-self: flex-end;width: 50%;}#sk-container-id-5 div.sk-parallel-item:last-child::after {align-self: flex-start;width: 50%;}#sk-container-id-5 div.sk-parallel-item:only-child::after {width: 0;}#sk-container-id-5 div.sk-dashed-wrapped {border: 1px dashed gray;margin: 0 0.4em 0.5em 0.4em;box-sizing: border-box;padding-bottom: 0.4em;background-color: white;}#sk-container-id-5 div.sk-label label {font-family: monospace;font-weight: bold;display: inline-block;line-height: 1.2em;}#sk-container-id-5 div.sk-label-container {text-align: center;}#sk-container-id-5 div.sk-container {/* jupyter's `normalize.less` sets `[hidden] { display: none; }` but bootstrap.min.css set `[hidden] { display: none !important; }` so we also need the `!important` here to be able to override the default hidden behavior on the sphinx rendered scikit-learn.org. See: https://github.com/scikit-learn/scikit-learn/issues/21755 */display: inline-block !important;position: relative;}#sk-container-id-5 div.sk-text-repr-fallback {display: none;}</style><div id=\"sk-container-id-5\" class=\"sk-top-container\"><div class=\"sk-text-repr-fallback\"><pre>XGBRegressor(base_score=None, booster=None, callbacks=None,\n",
       "             colsample_bylevel=None, colsample_bynode=None,\n",
       "             colsample_bytree=None, early_stopping_rounds=None,\n",
       "             enable_categorical=False, eval_metric=None, feature_types=None,\n",
       "             gamma=None, gpu_id=None, grow_policy=None, importance_type=None,\n",
       "             interaction_constraints=None, learning_rate=None, max_bin=None,\n",
       "             max_cat_threshold=None, max_cat_to_onehot=None,\n",
       "             max_delta_step=None, max_depth=None, max_leaves=None,\n",
       "             min_child_weight=None, missing=nan, monotone_constraints=None,\n",
       "             n_estimators=100, n_jobs=None, num_parallel_tree=None,\n",
       "             predictor=None, random_state=None, ...)</pre><b>In a Jupyter environment, please rerun this cell to show the HTML representation or trust the notebook. <br />On GitHub, the HTML representation is unable to render, please try loading this page with nbviewer.org.</b></div><div class=\"sk-container\" hidden><div class=\"sk-item\"><div class=\"sk-estimator sk-toggleable\"><input class=\"sk-toggleable__control sk-hidden--visually\" id=\"sk-estimator-id-5\" type=\"checkbox\" checked><label for=\"sk-estimator-id-5\" class=\"sk-toggleable__label sk-toggleable__label-arrow\">XGBRegressor</label><div class=\"sk-toggleable__content\"><pre>XGBRegressor(base_score=None, booster=None, callbacks=None,\n",
       "             colsample_bylevel=None, colsample_bynode=None,\n",
       "             colsample_bytree=None, early_stopping_rounds=None,\n",
       "             enable_categorical=False, eval_metric=None, feature_types=None,\n",
       "             gamma=None, gpu_id=None, grow_policy=None, importance_type=None,\n",
       "             interaction_constraints=None, learning_rate=None, max_bin=None,\n",
       "             max_cat_threshold=None, max_cat_to_onehot=None,\n",
       "             max_delta_step=None, max_depth=None, max_leaves=None,\n",
       "             min_child_weight=None, missing=nan, monotone_constraints=None,\n",
       "             n_estimators=100, n_jobs=None, num_parallel_tree=None,\n",
       "             predictor=None, random_state=None, ...)</pre></div></div></div></div></div>"
      ],
      "text/plain": [
       "XGBRegressor(base_score=None, booster=None, callbacks=None,\n",
       "             colsample_bylevel=None, colsample_bynode=None,\n",
       "             colsample_bytree=None, early_stopping_rounds=None,\n",
       "             enable_categorical=False, eval_metric=None, feature_types=None,\n",
       "             gamma=None, gpu_id=None, grow_policy=None, importance_type=None,\n",
       "             interaction_constraints=None, learning_rate=None, max_bin=None,\n",
       "             max_cat_threshold=None, max_cat_to_onehot=None,\n",
       "             max_delta_step=None, max_depth=None, max_leaves=None,\n",
       "             min_child_weight=None, missing=nan, monotone_constraints=None,\n",
       "             n_estimators=100, n_jobs=None, num_parallel_tree=None,\n",
       "             predictor=None, random_state=None, ...)"
      ]
     },
     "execution_count": 187,
     "metadata": {},
     "output_type": "execute_result"
    }
   ],
   "source": [
    "# Train an XGBoost model using the predicted values from the BiLSTM model as features\n",
    "import xgboost as xgb\n",
    "bi_pred=bi_model.predict(x_test)\n",
    "bi_pred_train=bi_model.predict(x_train)\n",
    "xgb_model = xgb.XGBRegressor()\n",
    "xgb_model.fit(bi_pred_train, y_train, eval_set=[(bi_pred_train, y_train), (bi_pred,y_test)],verbose=False)\n",
    "xgb_model.fit(bi_pred[:-1], y_test[1:])"
   ]
  },
  {
   "attachments": {},
   "cell_type": "markdown",
   "metadata": {},
   "source": [
    "## XGBOOST + GRU"
   ]
  },
  {
   "cell_type": "code",
   "execution_count": 188,
   "metadata": {},
   "outputs": [
    {
     "name": "stdout",
     "output_type": "stream",
     "text": [
      "24/24 [==============================] - 2s 42ms/step\n",
      "52/52 [==============================] - 3s 49ms/step\n"
     ]
    },
    {
     "data": {
      "text/html": [
       "<style>#sk-container-id-6 {color: black;background-color: white;}#sk-container-id-6 pre{padding: 0;}#sk-container-id-6 div.sk-toggleable {background-color: white;}#sk-container-id-6 label.sk-toggleable__label {cursor: pointer;display: block;width: 100%;margin-bottom: 0;padding: 0.3em;box-sizing: border-box;text-align: center;}#sk-container-id-6 label.sk-toggleable__label-arrow:before {content: \"▸\";float: left;margin-right: 0.25em;color: #696969;}#sk-container-id-6 label.sk-toggleable__label-arrow:hover:before {color: black;}#sk-container-id-6 div.sk-estimator:hover label.sk-toggleable__label-arrow:before {color: black;}#sk-container-id-6 div.sk-toggleable__content {max-height: 0;max-width: 0;overflow: hidden;text-align: left;background-color: #f0f8ff;}#sk-container-id-6 div.sk-toggleable__content pre {margin: 0.2em;color: black;border-radius: 0.25em;background-color: #f0f8ff;}#sk-container-id-6 input.sk-toggleable__control:checked~div.sk-toggleable__content {max-height: 200px;max-width: 100%;overflow: auto;}#sk-container-id-6 input.sk-toggleable__control:checked~label.sk-toggleable__label-arrow:before {content: \"▾\";}#sk-container-id-6 div.sk-estimator input.sk-toggleable__control:checked~label.sk-toggleable__label {background-color: #d4ebff;}#sk-container-id-6 div.sk-label input.sk-toggleable__control:checked~label.sk-toggleable__label {background-color: #d4ebff;}#sk-container-id-6 input.sk-hidden--visually {border: 0;clip: rect(1px 1px 1px 1px);clip: rect(1px, 1px, 1px, 1px);height: 1px;margin: -1px;overflow: hidden;padding: 0;position: absolute;width: 1px;}#sk-container-id-6 div.sk-estimator {font-family: monospace;background-color: #f0f8ff;border: 1px dotted black;border-radius: 0.25em;box-sizing: border-box;margin-bottom: 0.5em;}#sk-container-id-6 div.sk-estimator:hover {background-color: #d4ebff;}#sk-container-id-6 div.sk-parallel-item::after {content: \"\";width: 100%;border-bottom: 1px solid gray;flex-grow: 1;}#sk-container-id-6 div.sk-label:hover label.sk-toggleable__label {background-color: #d4ebff;}#sk-container-id-6 div.sk-serial::before {content: \"\";position: absolute;border-left: 1px solid gray;box-sizing: border-box;top: 0;bottom: 0;left: 50%;z-index: 0;}#sk-container-id-6 div.sk-serial {display: flex;flex-direction: column;align-items: center;background-color: white;padding-right: 0.2em;padding-left: 0.2em;position: relative;}#sk-container-id-6 div.sk-item {position: relative;z-index: 1;}#sk-container-id-6 div.sk-parallel {display: flex;align-items: stretch;justify-content: center;background-color: white;position: relative;}#sk-container-id-6 div.sk-item::before, #sk-container-id-6 div.sk-parallel-item::before {content: \"\";position: absolute;border-left: 1px solid gray;box-sizing: border-box;top: 0;bottom: 0;left: 50%;z-index: -1;}#sk-container-id-6 div.sk-parallel-item {display: flex;flex-direction: column;z-index: 1;position: relative;background-color: white;}#sk-container-id-6 div.sk-parallel-item:first-child::after {align-self: flex-end;width: 50%;}#sk-container-id-6 div.sk-parallel-item:last-child::after {align-self: flex-start;width: 50%;}#sk-container-id-6 div.sk-parallel-item:only-child::after {width: 0;}#sk-container-id-6 div.sk-dashed-wrapped {border: 1px dashed gray;margin: 0 0.4em 0.5em 0.4em;box-sizing: border-box;padding-bottom: 0.4em;background-color: white;}#sk-container-id-6 div.sk-label label {font-family: monospace;font-weight: bold;display: inline-block;line-height: 1.2em;}#sk-container-id-6 div.sk-label-container {text-align: center;}#sk-container-id-6 div.sk-container {/* jupyter's `normalize.less` sets `[hidden] { display: none; }` but bootstrap.min.css set `[hidden] { display: none !important; }` so we also need the `!important` here to be able to override the default hidden behavior on the sphinx rendered scikit-learn.org. See: https://github.com/scikit-learn/scikit-learn/issues/21755 */display: inline-block !important;position: relative;}#sk-container-id-6 div.sk-text-repr-fallback {display: none;}</style><div id=\"sk-container-id-6\" class=\"sk-top-container\"><div class=\"sk-text-repr-fallback\"><pre>XGBRegressor(base_score=None, booster=None, callbacks=None,\n",
       "             colsample_bylevel=None, colsample_bynode=None,\n",
       "             colsample_bytree=None, early_stopping_rounds=None,\n",
       "             enable_categorical=False, eval_metric=None, feature_types=None,\n",
       "             gamma=None, gpu_id=None, grow_policy=None, importance_type=None,\n",
       "             interaction_constraints=None, learning_rate=None, max_bin=None,\n",
       "             max_cat_threshold=None, max_cat_to_onehot=None,\n",
       "             max_delta_step=None, max_depth=None, max_leaves=None,\n",
       "             min_child_weight=None, missing=nan, monotone_constraints=None,\n",
       "             n_estimators=100, n_jobs=None, num_parallel_tree=None,\n",
       "             predictor=None, random_state=None, ...)</pre><b>In a Jupyter environment, please rerun this cell to show the HTML representation or trust the notebook. <br />On GitHub, the HTML representation is unable to render, please try loading this page with nbviewer.org.</b></div><div class=\"sk-container\" hidden><div class=\"sk-item\"><div class=\"sk-estimator sk-toggleable\"><input class=\"sk-toggleable__control sk-hidden--visually\" id=\"sk-estimator-id-6\" type=\"checkbox\" checked><label for=\"sk-estimator-id-6\" class=\"sk-toggleable__label sk-toggleable__label-arrow\">XGBRegressor</label><div class=\"sk-toggleable__content\"><pre>XGBRegressor(base_score=None, booster=None, callbacks=None,\n",
       "             colsample_bylevel=None, colsample_bynode=None,\n",
       "             colsample_bytree=None, early_stopping_rounds=None,\n",
       "             enable_categorical=False, eval_metric=None, feature_types=None,\n",
       "             gamma=None, gpu_id=None, grow_policy=None, importance_type=None,\n",
       "             interaction_constraints=None, learning_rate=None, max_bin=None,\n",
       "             max_cat_threshold=None, max_cat_to_onehot=None,\n",
       "             max_delta_step=None, max_depth=None, max_leaves=None,\n",
       "             min_child_weight=None, missing=nan, monotone_constraints=None,\n",
       "             n_estimators=100, n_jobs=None, num_parallel_tree=None,\n",
       "             predictor=None, random_state=None, ...)</pre></div></div></div></div></div>"
      ],
      "text/plain": [
       "XGBRegressor(base_score=None, booster=None, callbacks=None,\n",
       "             colsample_bylevel=None, colsample_bynode=None,\n",
       "             colsample_bytree=None, early_stopping_rounds=None,\n",
       "             enable_categorical=False, eval_metric=None, feature_types=None,\n",
       "             gamma=None, gpu_id=None, grow_policy=None, importance_type=None,\n",
       "             interaction_constraints=None, learning_rate=None, max_bin=None,\n",
       "             max_cat_threshold=None, max_cat_to_onehot=None,\n",
       "             max_delta_step=None, max_depth=None, max_leaves=None,\n",
       "             min_child_weight=None, missing=nan, monotone_constraints=None,\n",
       "             n_estimators=100, n_jobs=None, num_parallel_tree=None,\n",
       "             predictor=None, random_state=None, ...)"
      ]
     },
     "execution_count": 188,
     "metadata": {},
     "output_type": "execute_result"
    }
   ],
   "source": [
    "# Train an XGBoost model using the predicted values from the BiLSTM model as features\n",
    "import xgboost as xgb\n",
    "gru_pred=gru_model.predict(x_test)\n",
    "gru_pred_train=gru_model.predict(x_train)\n",
    "xgb_model2 = xgb.XGBRegressor()\n",
    "xgb_model2.fit(gru_pred_train, y_train, eval_set=[(gru_pred_train, y_train), (gru_pred,y_test)],verbose=False)\n",
    "xgb_model2.fit(gru_pred[:-1], y_test[1:])"
   ]
  },
  {
   "cell_type": "code",
   "execution_count": 189,
   "metadata": {},
   "outputs": [
    {
     "data": {
      "image/png": "[encoded data removed]",
      "text/plain": [
       "<Figure size 640x480 with 1 Axes>"
      ]
     },
     "metadata": {},
     "output_type": "display_data"
    }
   ],
   "source": [
    "# Use the trained XGBoost model to make predictions on the test data\n",
    "bi_xgb_predictions = xgb_model.predict(bi_pred)\n",
    "# Combine the BiLSTM and XGBoost predictions\n",
    "combined_predictions = np.concatenate((bi_pred[0:],bi_xgb_predictions[0:].reshape(-1, 1)), axis=1)\n",
    "combined_predictions = np.mean(combined_predictions, axis=1)\n",
    "\n",
    "xgb_gru_predictions=xgb_model2.predict(gru_pred)\n",
    "\n",
    "combined_predictions2 = np.concatenate((gru_pred[0:],xgb_gru_predictions[0:].reshape(-1, 1)), axis=1)\n",
    "combined_predictions2 = np.mean(combined_predictions2, axis=1)\n",
    "# Plot the predicted and actual stock prices\n",
    "import matplotlib.pyplot as plt\n",
    "plt.plot(y_test, label='Actual')\n",
    "plt.plot(combined_predictions, label='XGB,BI-LSTM  Predicted')\n",
    "plt.plot(combined_predictions2, label='XGB,GRU  Predicted')\n",
    "#plt.plot(y_predicted,label='lstm')\n",
    "plt.legend()\n",
    "plt.show()"
   ]
  },
  {
   "attachments": {},
   "cell_type": "markdown",
   "metadata": {},
   "source": [
    "# Testing and Validation"
   ]
  },
  {
   "cell_type": "code",
   "execution_count": 190,
   "metadata": {},
   "outputs": [],
   "source": [
    "sc1=scaler.scale_"
   ]
  },
  {
   "cell_type": "code",
   "execution_count": 191,
   "metadata": {},
   "outputs": [
    {
     "name": "stdout",
     "output_type": "stream",
     "text": [
      "24/24 [==============================] - 2s 56ms/step\n",
      "24/24 [==============================] - 2s 68ms/step\n",
      "24/24 [==============================] - 1s 50ms/step\n"
     ]
    },
    {
     "data": {
      "text/plain": [
       "(756, 1)"
      ]
     },
     "execution_count": 191,
     "metadata": {},
     "output_type": "execute_result"
    }
   ],
   "source": [
    "lstm_pred=lstm_model.predict(x_test)\n",
    "lstm_pred.shape\n",
    "bilstm_pred=bi_model.predict(x_test)\n",
    "bilstm_pred.shape\n",
    "gru_pred=gru_model.predict(x_test)\n",
    "gru_pred.shape"
   ]
  },
  {
   "cell_type": "code",
   "execution_count": 192,
   "metadata": {},
   "outputs": [],
   "source": [
    "scale_factor=1/sc1\n",
    "lstm_pred=lstm_pred*scale_factor\n",
    "y_test=y_test*scale_factor\n",
    "bilstm_pred=bilstm_pred*scale_factor\n",
    "gru_pred=gru_pred*scale_factor"
   ]
  },
  {
   "cell_type": "code",
   "execution_count": 193,
   "metadata": {},
   "outputs": [],
   "source": [
    "combined_predictions=combined_predictions*scale_factor\n",
    "combined_predictions2=combined_predictions2*scale_factor"
   ]
  },
  {
   "cell_type": "code",
   "execution_count": 1,
   "metadata": {},
   "outputs": [
    {
     "ename": "NameError",
     "evalue": "name 'plt' is not defined",
     "output_type": "error",
     "traceback": [
      "\u001b[1;31m---------------------------------------------------------------------------\u001b[0m",
      "\u001b[1;31mNameError\u001b[0m                                 Traceback (most recent call last)",
      "Cell \u001b[1;32mIn[1], line 1\u001b[0m\n\u001b[1;32m----> 1\u001b[0m plt\u001b[39m.\u001b[39mfigure(figsize\u001b[39m=\u001b[39m(\u001b[39m12\u001b[39m,\u001b[39m6\u001b[39m))\n\u001b[0;32m      2\u001b[0m plt\u001b[39m.\u001b[39mplot(y_test,\u001b[39m'\u001b[39m\u001b[39mb\u001b[39m\u001b[39m'\u001b[39m,label\u001b[39m=\u001b[39m\u001b[39m'\u001b[39m\u001b[39mOriginal Price\u001b[39m\u001b[39m'\u001b[39m)\n\u001b[0;32m      3\u001b[0m \u001b[39m#plt.plot(bilstm_pred,'r',label='Bidirectional LSTM')\u001b[39;00m\n\u001b[0;32m      4\u001b[0m \u001b[39m#plt.plot(lstm_pred,'g',linestyle='--',label='LSTM')\u001b[39;00m\n\u001b[0;32m      5\u001b[0m \u001b[39m#plt.plot(gru_pred,'r',linestyle='--',label='GRU')\u001b[39;00m\n",
      "\u001b[1;31mNameError\u001b[0m: name 'plt' is not defined"
     ]
    }
   ],
   "source": [
    "plt.figure(figsize=(12,6))\n",
    "plt.plot(y_test,'b',label='Original Price')\n",
    "#plt.plot(bilstm_pred,'r',label='Bidirectional LSTM')\n",
    "#plt.plot(lstm_pred,'g',linestyle='--',label='LSTM')\n",
    "#plt.plot(gru_pred,'r',linestyle='--',label='GRU')\n",
    "plt.plot(combined_predictions,'y',label='BI_XGB')\n",
    "plt.plot(combined_predictions2,'pink',label='XGB_GRU')\n",
    "plt.xlabel('Time (in days)')\n",
    "plt.ylabel('Price')\n",
    "plt.legend()\n",
    "plt.show()"
   ]
  },
  {
   "attachments": {},
   "cell_type": "markdown",
   "metadata": {},
   "source": [
    "# ERROR EVALUATION"
   ]
  },
  {
   "cell_type": "code",
   "execution_count": 195,
   "metadata": {},
   "outputs": [],
   "source": [
    "import math\n",
    "import numpy as np\n",
    "from sklearn.metrics import mean_squared_error,mean_absolute_error,mean_absolute_percentage_error,r2_score\n",
    "def return_error(test,predicted):\n",
    "    rmse = math.sqrt(mean_squared_error(test, predicted))\n",
    "    mae=mean_absolute_error(test,predicted)\n",
    "    mape=mean_absolute_percentage_error(test,predicted)*100\n",
    "    r2 = r2_score(test,predicted)\n",
    "    print(\"The root mean squared error is {}.\".format(rmse))\n",
    "    print(\"The mean absolute error is {}.\".format(mae))\n",
    "    print(\"The mean absolute percentage error {}.\".format(mape))\n",
    "    print(\"R2 score is {}.\".format(r2))\n",
    "\n",
    "    return rmse,mae,mape,r2"
   ]
  },
  {
   "cell_type": "code",
   "execution_count": 196,
   "metadata": {},
   "outputs": [
    {
     "name": "stdout",
     "output_type": "stream",
     "text": [
      "The root mean squared error is 3.914687946735592.\n",
      "The mean absolute error is 3.036802882276249.\n",
      "The mean absolute percentage error 4.714627360405196.\n",
      "R2 score is 0.98357604145309.\n"
     ]
    },
    {
     "data": {
      "text/plain": [
       "(3.914687946735592, 3.036802882276249, 4.714627360405196, 0.98357604145309)"
      ]
     },
     "execution_count": 196,
     "metadata": {},
     "output_type": "execute_result"
    }
   ],
   "source": [
    "rmse_LSTM=return_error(y_test,lstm_pred)\n",
    "rmse_LSTM"
   ]
  },
  {
   "cell_type": "code",
   "execution_count": 197,
   "metadata": {},
   "outputs": [
    {
     "name": "stdout",
     "output_type": "stream",
     "text": [
      "The root mean squared error is 3.0666873010211826.\n",
      "The mean absolute error is 2.349598639632068.\n",
      "The mean absolute percentage error 3.8546500223156746.\n",
      "R2 score is 0.9899208819341576.\n"
     ]
    },
    {
     "data": {
      "text/plain": [
       "(3.0666873010211826, 2.349598639632068, 3.8546500223156746, 0.9899208819341576)"
      ]
     },
     "execution_count": 197,
     "metadata": {},
     "output_type": "execute_result"
    }
   ],
   "source": [
    "rmse_BI=return_error(y_test,bilstm_pred)\n",
    "rmse_BI"
   ]
  },
  {
   "cell_type": "code",
   "execution_count": 198,
   "metadata": {},
   "outputs": [
    {
     "name": "stdout",
     "output_type": "stream",
     "text": [
      "The root mean squared error is 2.806574272949615.\n",
      "The mean absolute error is 2.0905195586037646.\n",
      "The mean absolute percentage error 3.440142105073992.\n",
      "R2 score is 0.9915581696030892.\n"
     ]
    },
    {
     "data": {
      "text/plain": [
       "(2.806574272949615, 2.0905195586037646, 3.440142105073992, 0.9915581696030892)"
      ]
     },
     "execution_count": 198,
     "metadata": {},
     "output_type": "execute_result"
    }
   ],
   "source": [
    "rmse_GRU=return_error(y_test,gru_pred)\n",
    "rmse_GRU"
   ]
  },
  {
   "cell_type": "code",
   "execution_count": 199,
   "metadata": {},
   "outputs": [
    {
     "name": "stdout",
     "output_type": "stream",
     "text": [
      "The root mean squared error is 2.333832408528641.\n",
      "The mean absolute error is 1.7806085214298109.\n",
      "The mean absolute percentage error 2.9707880621396003.\n",
      "R2 score is 0.9941625540070901.\n"
     ]
    }
   ],
   "source": [
    "rmse_xgb=return_error(y_test,combined_predictions)"
   ]
  },
  {
   "cell_type": "code",
   "execution_count": 200,
   "metadata": {},
   "outputs": [
    {
     "name": "stdout",
     "output_type": "stream",
     "text": [
      "The root mean squared error is 2.234826164580159.\n",
      "The mean absolute error is 1.682649560896441.\n",
      "The mean absolute percentage error 2.8564146717130403.\n",
      "R2 score is 0.9946473229973488.\n"
     ]
    }
   ],
   "source": [
    "rmse_gru_xgb=return_error(y_test,combined_predictions2)"
   ]
  },
  {
   "cell_type": "code",
   "execution_count": 201,
   "metadata": {},
   "outputs": [],
   "source": [
    "error_df=pd.DataFrame(columns=('Model','RMSE'))\n",
    "error_data=[('LSTM',rmse_LSTM[0],rmse_LSTM[1],rmse_LSTM[2],rmse_LSTM[3]),\n",
    "            ('Bi-LSTM',rmse_BI[0],rmse_BI[1],rmse_BI[2],rmse_BI[3]),\n",
    "            ('GRU',rmse_GRU[0],rmse_GRU[1],rmse_GRU[2],rmse_GRU[3]),\n",
    "            ('Bi-LSTM XGBOOST',rmse_xgb[0],rmse_xgb[1],rmse_xgb[2],rmse_xgb[3]),\n",
    "            ('GRU XGBOOST',rmse_gru_xgb[0],rmse_gru_xgb[1],rmse_gru_xgb[2],rmse_gru_xgb[3])]\n",
    "error_df=pd.DataFrame(error_data,columns=('Model','RMSE','MAE','MAPE','R2'))"
   ]
  },
  {
   "cell_type": "code",
   "execution_count": 202,
   "metadata": {},
   "outputs": [
    {
     "data": {
      "text/html": [
       "<div>\n",
       "<style scoped>\n",
       "    .dataframe tbody tr th:only-of-type {\n",
       "        vertical-align: middle;\n",
       "    }\n",
       "\n",
       "    .dataframe tbody tr th {\n",
       "        vertical-align: top;\n",
       "    }\n",
       "\n",
       "    .dataframe thead th {\n",
       "        text-align: right;\n",
       "    }\n",
       "</style>\n",
       "<table border=\"1\" class=\"dataframe\">\n",
       "  <thead>\n",
       "    <tr style=\"text-align: right;\">\n",
       "      <th></th>\n",
       "      <th>Model</th>\n",
       "      <th>RMSE</th>\n",
       "      <th>MAE</th>\n",
       "      <th>MAPE</th>\n",
       "      <th>R2</th>\n",
       "    </tr>\n",
       "  </thead>\n",
       "  <tbody>\n",
       "    <tr>\n",
       "      <th>0</th>\n",
       "      <td>LSTM</td>\n",
       "      <td>3.914688</td>\n",
       "      <td>3.036803</td>\n",
       "      <td>4.714627</td>\n",
       "      <td>0.983576</td>\n",
       "    </tr>\n",
       "    <tr>\n",
       "      <th>1</th>\n",
       "      <td>Bi-LSTM</td>\n",
       "      <td>3.066687</td>\n",
       "      <td>2.349599</td>\n",
       "      <td>3.854650</td>\n",
       "      <td>0.989921</td>\n",
       "    </tr>\n",
       "    <tr>\n",
       "      <th>2</th>\n",
       "      <td>GRU</td>\n",
       "      <td>2.806574</td>\n",
       "      <td>2.090520</td>\n",
       "      <td>3.440142</td>\n",
       "      <td>0.991558</td>\n",
       "    </tr>\n",
       "    <tr>\n",
       "      <th>3</th>\n",
       "      <td>Bi-LSTM XGBOOST</td>\n",
       "      <td>2.333832</td>\n",
       "      <td>1.780609</td>\n",
       "      <td>2.970788</td>\n",
       "      <td>0.994163</td>\n",
       "    </tr>\n",
       "    <tr>\n",
       "      <th>4</th>\n",
       "      <td>GRU XGBOOST</td>\n",
       "      <td>2.234826</td>\n",
       "      <td>1.682650</td>\n",
       "      <td>2.856415</td>\n",
       "      <td>0.994647</td>\n",
       "    </tr>\n",
       "  </tbody>\n",
       "</table>\n",
       "</div>"
      ],
      "text/plain": [
       "             Model      RMSE       MAE      MAPE        R2\n",
       "0             LSTM  3.914688  3.036803  4.714627  0.983576\n",
       "1          Bi-LSTM  3.066687  2.349599  3.854650  0.989921\n",
       "2              GRU  2.806574  2.090520  3.440142  0.991558\n",
       "3  Bi-LSTM XGBOOST  2.333832  1.780609  2.970788  0.994163\n",
       "4      GRU XGBOOST  2.234826  1.682650  2.856415  0.994647"
      ]
     },
     "execution_count": 202,
     "metadata": {},
     "output_type": "execute_result"
    }
   ],
   "source": [
    "error_df"
   ]
  }
 ],
 "metadata": {
  "kernelspec": {
   "display_name": "base",
   "language": "python",
   "name": "python3"
  },
  "language_info": {
   "codemirror_mode": {
    "name": "ipython",
    "version": 3
   },
   "file_extension": ".py",
   "mimetype": "text/x-python",
   "name": "python",
   "nbconvert_exporter": "python",
   "pygments_lexer": "ipython3",
   "version": "3.9.16"
  },
  "orig_nbformat": 4
 },
 "nbformat": 4,
 "nbformat_minor": 2
}
